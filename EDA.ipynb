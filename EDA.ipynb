{
 "cells": [
  {
   "cell_type": "markdown",
   "metadata": {},
   "source": [
    "## UMAP 2024\n",
    "\n",
    "Data Analysis about Attractive Image Judgement to answer the fellow research questions:\n",
    "\n",
    "    - How do user demographics, food knowledge, cooking skills contribute to the user perception of food images ?\n",
    "    \n",
    "    - To what extent different human food choice factors influence the user perception ?\n",
    "\n",
    "    - Why do ratings are given, what determines the ratings of an individual, interpretation of what people are ratings?"
   ]
  },
  {
   "cell_type": "code",
   "execution_count": 3,
   "metadata": {},
   "outputs": [
    {
     "name": "stdout",
     "output_type": "stream",
     "text": [
      "The autoreload extension is already loaded. To reload it, use:\n",
      "  %reload_ext autoreload\n"
     ]
    }
   ],
   "source": [
    "import pandas as pd\n",
    "import numpy as np\n",
    "import matplotlib\n",
    "import matplotlib.pyplot as plt\n",
    "import seaborn as sns\n",
    "import math\n",
    "\n",
    "import warnings\n",
    "warnings.filterwarnings('ignore')\n",
    "%load_ext autoreload \n",
    "%autoreload\n",
    "\n",
    "import sys\n",
    "sys.path.insert(0,'./rd_data')\n",
    "from rd_data import *\n",
    "\n",
    "palette = 'Set2'\n",
    "sns.set_style(\"darkgrid\")"
   ]
  },
  {
   "cell_type": "markdown",
   "metadata": {},
   "source": [
    "- read data"
   ]
  },
  {
   "cell_type": "code",
   "execution_count": 5,
   "metadata": {},
   "outputs": [],
   "source": [
    "personal_info = pd.read_csv('./csv/Personal_info.csv')\n",
    "sfd_cc = pd.read_csv('./csv/Subjective_knowledge.csv')\n",
    "ratings = pd.read_csv('./csv/Ratings_judgment.csv')\n",
    "factors = pd.read_csv('./csv/Factors.csv')"
   ]
  },
  {
   "cell_type": "code",
   "execution_count": 12,
   "metadata": {},
   "outputs": [],
   "source": [
    "personal_info = personal_info[['id','age','country','education','gender']]\n",
    "sfd_cc = sfd_cc[['person','FK_9','FK_10','FK_11', 'FK_12', 'CS_9',\n",
    "                        'CS_10', 'CS_11', 'CS_12', 'CS_13', 'CS_14']]\n",
    "ratings = ratings[['person', 'rating', 'recipes', 'judging']]\n",
    "factors = factors[['id', 'person', 'appearance', 'taste', 'healthiness', 'familiarity']]"
   ]
  },
  {
   "cell_type": "markdown",
   "metadata": {},
   "source": [
    "- Demographics "
   ]
  },
  {
   "cell_type": "code",
   "execution_count": 16,
   "metadata": {},
   "outputs": [
    {
     "data": {
      "text/plain": [
       "b25_35      0.391089\n",
       "b18_24      0.237624\n",
       "b35_45      0.202970\n",
       "b45_55      0.113861\n",
       "bover_55    0.054455\n",
       "Name: age, dtype: float64"
      ]
     },
     "execution_count": 16,
     "metadata": {},
     "output_type": "execute_result"
    }
   ],
   "source": [
    "personal_info.age.value_counts(normalize=True)"
   ]
  },
  {
   "cell_type": "code",
   "execution_count": null,
   "metadata": {},
   "outputs": [],
   "source": []
  },
  {
   "cell_type": "code",
   "execution_count": null,
   "metadata": {},
   "outputs": [],
   "source": []
  }
 ],
 "metadata": {
  "kernelspec": {
   "display_name": "Python 3",
   "language": "python",
   "name": "python3"
  },
  "language_info": {
   "codemirror_mode": {
    "name": "ipython",
    "version": 3
   },
   "file_extension": ".py",
   "mimetype": "text/x-python",
   "name": "python",
   "nbconvert_exporter": "python",
   "pygments_lexer": "ipython3",
   "version": "3.8.8"
  }
 },
 "nbformat": 4,
 "nbformat_minor": 2
}
